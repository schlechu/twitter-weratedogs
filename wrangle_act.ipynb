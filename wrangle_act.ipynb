{
 "cells": [
  {
   "cell_type": "markdown",
   "metadata": {},
   "source": [
    "## Gather\n",
    "\n",
    "Real-world data rarely comes clean. Using Python and its libraries, you will gather data from a variety of sources and in a variety of formats, assess its quality and tidiness, then clean it. This is called data wrangling. You will document your wrangling efforts in a Jupyter Notebook, plus showcase them through analyses and visualizations using Python (and its libraries) and/or SQL.\n",
    "\n",
    "The dataset that you will be wrangling (and analyzing and visualizing) is the tweet archive of Twitter user @dog_rates, also known as WeRateDogs. WeRateDogs is a Twitter account that rates people's dogs with a humorous comment about the dog. These ratings almost always have a denominator of 10. The numerators, though? Almost always greater than 10. 11/10, 12/10, 13/10, etc. Why? Because \"they're good dogs Brent.\" WeRateDogs has over 4 million followers and has received international media coverage.\n",
    "\n",
    "WeRateDogs downloaded their Twitter archive and sent it to Udacity via email exclusively for you to use in this project. This archive contains basic tweet data (tweet ID, timestamp, text, etc.) for all 5000+ of their tweets as they stood on August 1, 2017. More on this soon."
   ]
  },
  {
   "cell_type": "markdown",
   "metadata": {},
   "source": [
    "#### Assessing Data for this Project\n",
    "After gathering each of the above pieces of data, assess them visually and programmatically for quality and tidiness issues. Detect and document at least **eight (8)** quality issues and **two (2)** tidiness issues in your wrangle_act.ipynb Jupyter Notebook. To meet specifications, the issues that satisfy the Project Motivation (see the Key Points header on the previous page) must be assessed.\n",
    "\n",
    "#### Cleaning Data for this Project\n",
    "Clean each of the issues you documented while assessing. Perform this cleaning in wrangle_act.ipynb as well. The result should be a high quality and tidy master pandas DataFrame (or DataFrames, if appropriate). Again, the issues that satisfy the Project Motivation must be cleaned.\n",
    "\n",
    "#### Storing, Analyzing, and Visualizing Data for this Project\n",
    "Store the clean DataFrame(s) in a CSV file with the main one named **twitter_archive_master.csv**. If additional files exist because multiple tables are required for tidiness, name these files appropriately. Additionally, **you may store the cleaned data in a SQLite database** (which is to be submitted as well if you do).\n",
    "\n",
    "Analyze and visualize your wrangled data in your wrangle_act.ipynb Jupyter Notebook. At least **three (3) insights and one (1) visualization** must be produced.\n",
    "\n",
    "#### Reporting for this Project\n",
    "Create a 300-600 word written report called **wrangle_report.pdf or wrangle_report.html** that briefly describes your wrangling efforts. This is to be framed as an internal document.\n",
    "\n",
    "Create a 250-word-minimum written report called **act_report.pdf or act_report.html** that communicates the insights and displays the visualization(s) produced from your wrangled data. This is to be framed as an external document, like a blog post or magazine article, for example.\n",
    "\n",
    "Both of these documents can be created in separate Jupyter Notebooks using the Markdown functionality of Jupyter Notebooks, then downloading those notebooks as PDF files or HTML files (see image below). You might prefer to use a word processor like Google Docs or Microsoft Word, however."
   ]
  },
  {
   "cell_type": "markdown",
   "metadata": {},
   "source": [
    "## Dirty and messy data"
   ]
  },
  {
   "cell_type": "markdown",
   "metadata": {},
   "source": [
    "dirty data = low quality data = content issues"
   ]
  },
  {
   "cell_type": "markdown",
   "metadata": {},
   "source": [
    "untidy data = messy data = structural issues\n",
    "- each variable forms a column\n",
    "- each observation forms a row\n",
    "- each observational unit forms a table"
   ]
  },
  {
   "cell_type": "code",
   "execution_count": 1,
   "metadata": {},
   "outputs": [],
   "source": [
    "# import all necessary packages\n",
    "import os\n",
    "import io\n",
    "import re\n",
    "import json\n",
    "import tweepy\n",
    "import requests\n",
    "\n",
    "import pandas as pd\n",
    "import numpy as np\n",
    "\n",
    "from tweepy import OAuthHandler\n",
    "from bs4 import BeautifulSoup"
   ]
  },
  {
   "cell_type": "markdown",
   "metadata": {},
   "source": [
    "### Load csv file provided by Udacity"
   ]
  },
  {
   "cell_type": "code",
   "execution_count": 2,
   "metadata": {},
   "outputs": [],
   "source": [
    "# slurp in csv-file that was provided by Udacity\n",
    "df1 = pd.read_csv('twitter-archive-enhanced.csv')"
   ]
  },
  {
   "cell_type": "code",
   "execution_count": 3,
   "metadata": {},
   "outputs": [
    {
     "name": "stdout",
     "output_type": "stream",
     "text": [
      "<class 'pandas.core.frame.DataFrame'>\n",
      "RangeIndex: 2356 entries, 0 to 2355\n",
      "Data columns (total 17 columns):\n",
      " #   Column                      Non-Null Count  Dtype  \n",
      "---  ------                      --------------  -----  \n",
      " 0   tweet_id                    2356 non-null   int64  \n",
      " 1   in_reply_to_status_id       78 non-null     float64\n",
      " 2   in_reply_to_user_id         78 non-null     float64\n",
      " 3   timestamp                   2356 non-null   object \n",
      " 4   source                      2356 non-null   object \n",
      " 5   text                        2356 non-null   object \n",
      " 6   retweeted_status_id         181 non-null    float64\n",
      " 7   retweeted_status_user_id    181 non-null    float64\n",
      " 8   retweeted_status_timestamp  181 non-null    object \n",
      " 9   expanded_urls               2297 non-null   object \n",
      " 10  rating_numerator            2356 non-null   int64  \n",
      " 11  rating_denominator          2356 non-null   int64  \n",
      " 12  name                        2356 non-null   object \n",
      " 13  doggo                       2356 non-null   object \n",
      " 14  floofer                     2356 non-null   object \n",
      " 15  pupper                      2356 non-null   object \n",
      " 16  puppo                       2356 non-null   object \n",
      "dtypes: float64(4), int64(3), object(10)\n",
      "memory usage: 313.0+ KB\n"
     ]
    }
   ],
   "source": [
    "df1.info()"
   ]
  },
  {
   "cell_type": "markdown",
   "metadata": {},
   "source": [
    "### Download tsv file provided by Udacity"
   ]
  },
  {
   "cell_type": "code",
   "execution_count": 4,
   "metadata": {},
   "outputs": [
    {
     "data": {
      "text/plain": [
       "'utf-8'"
      ]
     },
     "execution_count": 4,
     "metadata": {},
     "output_type": "execute_result"
    }
   ],
   "source": [
    "# download tsv-file containing image predictions\n",
    "url = 'https://d17h27t6h515a5.cloudfront.net/topher/2017/August/599fd2ad_image-predictions/image-predictions.tsv'\n",
    "response = requests.get(url)\n",
    "# retrieve encoding that was used\n",
    "response.encoding"
   ]
  },
  {
   "cell_type": "code",
   "execution_count": 5,
   "metadata": {},
   "outputs": [],
   "source": [
    "df2 = pd.read_csv(io.StringIO(response.content.decode('utf-8')), sep='\\t')"
   ]
  },
  {
   "cell_type": "code",
   "execution_count": 6,
   "metadata": {
    "scrolled": false
   },
   "outputs": [
    {
     "name": "stdout",
     "output_type": "stream",
     "text": [
      "<class 'pandas.core.frame.DataFrame'>\n",
      "RangeIndex: 2075 entries, 0 to 2074\n",
      "Data columns (total 12 columns):\n",
      " #   Column    Non-Null Count  Dtype  \n",
      "---  ------    --------------  -----  \n",
      " 0   tweet_id  2075 non-null   int64  \n",
      " 1   jpg_url   2075 non-null   object \n",
      " 2   img_num   2075 non-null   int64  \n",
      " 3   p1        2075 non-null   object \n",
      " 4   p1_conf   2075 non-null   float64\n",
      " 5   p1_dog    2075 non-null   bool   \n",
      " 6   p2        2075 non-null   object \n",
      " 7   p2_conf   2075 non-null   float64\n",
      " 8   p2_dog    2075 non-null   bool   \n",
      " 9   p3        2075 non-null   object \n",
      " 10  p3_conf   2075 non-null   float64\n",
      " 11  p3_dog    2075 non-null   bool   \n",
      "dtypes: bool(3), float64(3), int64(2), object(4)\n",
      "memory usage: 152.1+ KB\n"
     ]
    }
   ],
   "source": [
    "df2.info()"
   ]
  },
  {
   "cell_type": "markdown",
   "metadata": {},
   "source": [
    "### Retrieve tweets through twitter's API"
   ]
  },
  {
   "cell_type": "code",
   "execution_count": 7,
   "metadata": {},
   "outputs": [],
   "source": [
    "# consumer_key = 'HIDDEN'\n",
    "# consumer_secret = 'HIDDEN'\n",
    "# access_token = 'HIDDEN'\n",
    "# access_secret = 'HIDDEN'\n",
    "\n",
    "# auth = tweepy.OAuthHandler(consumer_key, consumer_secret)\n",
    "# auth.set_access_token(access_token, access_secret)\n",
    "\n",
    "# api = tweepy.API(auth, wait_on_rate_limit=True, wait_on_rate_limit_notify=True)"
   ]
  },
  {
   "cell_type": "code",
   "execution_count": 8,
   "metadata": {
    "scrolled": false
   },
   "outputs": [],
   "source": [
    "# fails = {}\n",
    "# tweet_ids = df1.tweet_id\n",
    "\n",
    "# with open('tweet_json.txt', 'w') as file:\n",
    "#     for tweet_id in tweet_ids:\n",
    "#         try:\n",
    "#             tweet = api.get_status(tweet_id, tweet_mode='extended')\n",
    "#             json.dump(tweet._json, file)\n",
    "#             file.write('\\n')\n",
    "#         except tweepy.TweepError as exception:\n",
    "#             fails[tweet_id] = exception\n",
    "#             pass"
   ]
  },
  {
   "cell_type": "code",
   "execution_count": 9,
   "metadata": {},
   "outputs": [],
   "source": [
    "with open('tweet_json.txt', 'r') as file:\n",
    "    for l in file:\n",
    "        js = json.loads(l)\n",
    "        break"
   ]
  },
  {
   "cell_type": "code",
   "execution_count": 10,
   "metadata": {
    "scrolled": false
   },
   "outputs": [
    {
     "data": {
      "text/plain": [
       "dict_keys(['created_at', 'id', 'id_str', 'full_text', 'truncated', 'display_text_range', 'entities', 'extended_entities', 'source', 'in_reply_to_status_id', 'in_reply_to_status_id_str', 'in_reply_to_user_id', 'in_reply_to_user_id_str', 'in_reply_to_screen_name', 'user', 'geo', 'coordinates', 'place', 'contributors', 'is_quote_status', 'retweet_count', 'favorite_count', 'favorited', 'retweeted', 'possibly_sensitive', 'possibly_sensitive_appealable', 'lang'])"
      ]
     },
     "execution_count": 10,
     "metadata": {},
     "output_type": "execute_result"
    }
   ],
   "source": [
    "js.keys()"
   ]
  },
  {
   "cell_type": "code",
   "execution_count": 11,
   "metadata": {
    "scrolled": true
   },
   "outputs": [
    {
     "data": {
      "text/plain": [
       "'http://pbs.twimg.com/media/DGKD1-bXoAAIAUK.jpg'"
      ]
     },
     "execution_count": 11,
     "metadata": {},
     "output_type": "execute_result"
    }
   ],
   "source": [
    "js['extended_entities']['media'][0]['media_url']"
   ]
  },
  {
   "cell_type": "code",
   "execution_count": 12,
   "metadata": {},
   "outputs": [],
   "source": [
    "df3 = []\n",
    "with open('tweet_json.txt', 'r') as file:\n",
    "    for l in file:\n",
    "        js = json.loads(l)\n",
    "        df3.append({'id': str(js['id']),\n",
    "                    'timestamp': pd.to_datetime(js['created_at']),\n",
    "                    'source': js['source'],\n",
    "                    'full_text': js['full_text'],\n",
    "                    'retweet_count': js['retweet_count'],\n",
    "                    'favorite_count': js['favorite_count']})\n",
    "df3 = pd.DataFrame(df3, columns = ['id', 'timestamp','source','in_reply_to_status_id','retweet_count', 'favorite_count','full_text'])"
   ]
  },
  {
   "cell_type": "code",
   "execution_count": 13,
   "metadata": {},
   "outputs": [],
   "source": [
    "name = df3.full_text.str.extract('(?:[Tt]his is |[Mm]eet | named |[Ss]ay hello to |[Hh]ere is )((?:[A-Z]\\w+)(?: (?:&amp;|and) [A-Z]\\w+)?)', expand=False)\n",
    "stage = df3.full_text.str.extract('[^\\w](doggo|pupper|puppo|floofer)[^\\w]', flags=re.I, expand=False)\n",
    "rating = df3.full_text.str.extract('((?:\\d+\\.?\\d+)|(?:\\d+))/(\\d{2,})', expand=False)"
   ]
  },
  {
   "cell_type": "code",
   "execution_count": 14,
   "metadata": {},
   "outputs": [],
   "source": [
    "df3['name'] = name\n",
    "df3['stage'] = stage\n",
    "df3[['rating_num','rating_denom']] = rating\n",
    "\n",
    "df3.id = df3.id.astype(int)"
   ]
  },
  {
   "cell_type": "markdown",
   "metadata": {},
   "source": [
    "### Download a list of dog breeds from Wikipedia"
   ]
  },
  {
   "cell_type": "code",
   "execution_count": 15,
   "metadata": {},
   "outputs": [],
   "source": [
    "url = 'https://en.wikipedia.org/wiki/List_of_dog_breeds#A–C'\n",
    "response = requests.get(url)"
   ]
  },
  {
   "cell_type": "code",
   "execution_count": 16,
   "metadata": {},
   "outputs": [],
   "source": [
    "soup = BeautifulSoup(response.content)"
   ]
  },
  {
   "cell_type": "code",
   "execution_count": 17,
   "metadata": {},
   "outputs": [],
   "source": [
    "dog_breeds = []\n",
    "\n",
    "# drill down to bulleted list <ul>\n",
    "uls = soup.find_all('ul')[3:7]\n",
    "\n",
    "for ul in uls:\n",
    "    # retrieve all instances of <a>\n",
    "    all_a = ul.find_all('a')\n",
    "    for a in all_a:\n",
    "        if a.has_attr('title'):\n",
    "            dog_breeds.append(a.contents[0].lower())"
   ]
  },
  {
   "cell_type": "code",
   "execution_count": 18,
   "metadata": {},
   "outputs": [],
   "source": [
    "df2['conf'] = [i if i in dog_breeds else None for i in df2.p1.str.lower().str.replace('_', ' ')]"
   ]
  },
  {
   "cell_type": "code",
   "execution_count": 19,
   "metadata": {},
   "outputs": [],
   "source": [
    "df = df1.merge(df2, on='tweet_id')\n",
    "df = df.merge(df3, left_on='tweet_id', right_on='id')"
   ]
  },
  {
   "cell_type": "code",
   "execution_count": 20,
   "metadata": {},
   "outputs": [],
   "source": [
    "df.to_clipboard()"
   ]
  },
  {
   "cell_type": "code",
   "execution_count": 21,
   "metadata": {},
   "outputs": [
    {
     "data": {
      "text/plain": [
       "['affenpinscher',\n",
       " 'afghan hound',\n",
       " 'aidi',\n",
       " 'airedale terrier',\n",
       " 'akbash',\n",
       " 'akita',\n",
       " 'alano español',\n",
       " 'alaskan husky',\n",
       " 'alaskan klee kai',\n",
       " 'alaskan malamute',\n",
       " 'alpine dachsbracke',\n",
       " 'american bulldog',\n",
       " 'american bully',\n",
       " 'american cocker spaniel',\n",
       " 'american english coonhound',\n",
       " 'american eskimo dog',\n",
       " 'american foxhound',\n",
       " 'american hairless terrier',\n",
       " 'american pit bull terrier',\n",
       " 'american staffordshire terrier',\n",
       " 'american water spaniel',\n",
       " 'anatolian shepherd dog',\n",
       " 'andalusian hound',\n",
       " 'anglo-français de petite vénerie',\n",
       " 'appenzeller sennenhund',\n",
       " 'ariegeois',\n",
       " 'armant',\n",
       " 'armenian gampr dog',\n",
       " 'artois hound',\n",
       " 'australian cattle dog',\n",
       " 'australian kelpie',\n",
       " 'australian shepherd',\n",
       " 'australian stumpy tail cattle dog',\n",
       " 'australian terrier',\n",
       " 'austrian black and tan hound',\n",
       " 'austrian pinscher',\n",
       " 'azawakh',\n",
       " 'bakharwal dog',\n",
       " 'banjara hound',\n",
       " 'barbado da terceira',\n",
       " 'barbet',\n",
       " 'basenji',\n",
       " 'basque shepherd dog',\n",
       " 'basset artésien normand',\n",
       " 'basset bleu de gascogne',\n",
       " 'basset fauve de bretagne',\n",
       " 'basset hound',\n",
       " 'bavarian mountain hound',\n",
       " 'beagle',\n",
       " 'beagle-harrier',\n",
       " 'bearded collie',\n",
       " 'beauceron',\n",
       " 'bedlington terrier',\n",
       " 'bergamasco shepherd',\n",
       " 'berger picard',\n",
       " 'bernese mountain dog',\n",
       " 'bichon frisé',\n",
       " 'billy',\n",
       " 'black and tan coonhound',\n",
       " 'black norwegian elkhound',\n",
       " 'black russian terrier',\n",
       " 'black mouth cur',\n",
       " 'bloodhound',\n",
       " 'blue lacy',\n",
       " 'blue picardy spaniel',\n",
       " 'bluetick coonhound',\n",
       " 'boerboel',\n",
       " 'bohemian shepherd',\n",
       " 'bolognese',\n",
       " 'border collie',\n",
       " 'border terrier',\n",
       " 'borzoi',\n",
       " 'bosnian coarse-haired hound',\n",
       " 'boston terrier',\n",
       " 'bouvier des ardennes',\n",
       " 'bouvier des flandres',\n",
       " 'boxer',\n",
       " 'boykin spaniel',\n",
       " 'bracco italiano',\n",
       " \"braque d'auvergne\",\n",
       " \"braque de l'ariège\",\n",
       " 'braque du bourbonnais',\n",
       " 'braque francais',\n",
       " 'braque saint-germain',\n",
       " 'briard',\n",
       " 'briquet griffon vendéen',\n",
       " 'brittany',\n",
       " 'broholmer',\n",
       " 'bruno jura hound',\n",
       " 'brussels griffon',\n",
       " 'bucovina shepherd dog',\n",
       " 'bull terrier',\n",
       " 'bulldog',\n",
       " 'bullmastiff',\n",
       " 'bully kutta',\n",
       " 'burgos pointer',\n",
       " 'cairn terrier',\n",
       " 'campeiro bulldog',\n",
       " 'canaan dog',\n",
       " 'canadian eskimo dog',\n",
       " 'cane corso',\n",
       " 'cantabrian water dog',\n",
       " 'cão da serra de aires',\n",
       " 'cão de castro laboreiro',\n",
       " 'cão de gado transmontano',\n",
       " 'cão fila de são miguel',\n",
       " 'cardigan welsh corgi',\n",
       " 'carolina dog',\n",
       " 'carpathian shepherd dog',\n",
       " 'catahoula leopard dog',\n",
       " 'catalan sheepdog',\n",
       " 'caucasian shepherd dog',\n",
       " 'cavalier king charles spaniel',\n",
       " 'central asian shepherd dog',\n",
       " 'cesky fousek',\n",
       " 'cesky terrier',\n",
       " 'chesapeake bay retriever',\n",
       " 'chien français blanc et noir',\n",
       " 'chien français blanc et orange',\n",
       " 'chien français tricolore',\n",
       " 'chihuahua',\n",
       " 'chilean terrier',\n",
       " 'chinese chongqing dog',\n",
       " 'chinese crested dog',\n",
       " 'chinook',\n",
       " 'chippiparai',\n",
       " 'chow chow',\n",
       " 'cimarrón uruguayo',\n",
       " \"cirneco dell'etna\",\n",
       " 'clumber spaniel',\n",
       " 'combai',\n",
       " 'colombian fino hound',\n",
       " 'coton de tulear',\n",
       " 'cretan hound',\n",
       " 'croatian sheepdog',\n",
       " 'curly-coated retriever',\n",
       " 'cursinu',\n",
       " 'czechoslovakian wolfdog',\n",
       " 'dachshund',\n",
       " 'dalmatian',\n",
       " 'dandie dinmont terrier',\n",
       " 'danish-swedish farmdog',\n",
       " 'doberman pinscher',\n",
       " 'dogo argentino',\n",
       " 'dogo guatemalteco',\n",
       " 'dogue brasileiro',\n",
       " 'dogue de bordeaux',\n",
       " 'drentse patrijshond',\n",
       " 'drever',\n",
       " 'dunker',\n",
       " 'dutch shepherd',\n",
       " 'dutch smoushond',\n",
       " 'east siberian laika',\n",
       " 'east european shepherd',\n",
       " 'english cocker spaniel',\n",
       " 'english foxhound',\n",
       " 'english mastiff',\n",
       " 'english setter',\n",
       " 'english shepherd',\n",
       " 'english springer spaniel',\n",
       " 'english toy terrier (black & tan)',\n",
       " 'entlebucher mountain dog',\n",
       " 'estonian hound',\n",
       " 'estrela mountain dog',\n",
       " 'eurasier',\n",
       " 'field spaniel',\n",
       " 'fila brasileiro',\n",
       " 'fila da terceira',\n",
       " 'finnish hound',\n",
       " 'finnish lapphund',\n",
       " 'finnish spitz',\n",
       " 'flat-coated retriever',\n",
       " 'french bulldog',\n",
       " 'french spaniel',\n",
       " 'galgo español',\n",
       " 'galician shepherd dog',\n",
       " 'garafian shepherd',\n",
       " 'gascon saintongeois',\n",
       " 'georgian shepherd',\n",
       " 'german hound',\n",
       " 'german longhaired pointer',\n",
       " 'german pinscher',\n",
       " 'german roughhaired pointer',\n",
       " 'german shepherd dog',\n",
       " 'german shorthaired pointer',\n",
       " 'german spaniel',\n",
       " 'german spitz',\n",
       " 'german wirehaired pointer',\n",
       " 'giant schnauzer',\n",
       " 'glen of imaal terrier',\n",
       " 'golden retriever',\n",
       " 'gończy polski',\n",
       " 'gordon setter',\n",
       " 'gran mastín de borínquen',\n",
       " 'grand anglo-français blanc et noir',\n",
       " 'grand anglo-français blanc et orange',\n",
       " 'grand anglo-français tricolore',\n",
       " 'grand basset griffon vendéen',\n",
       " 'grand bleu de gascogne',\n",
       " 'grand griffon vendéen',\n",
       " 'great dane',\n",
       " 'great pyrenees',\n",
       " 'greater swiss mountain dog',\n",
       " 'greek harehound',\n",
       " 'greek shepherd',\n",
       " 'greenland dog',\n",
       " 'greyhound',\n",
       " 'griffon bleu de gascogne',\n",
       " 'griffon fauve de bretagne',\n",
       " 'griffon nivernais',\n",
       " 'groenendael',\n",
       " 'gull terrier',\n",
       " 'hamiltonstövare',\n",
       " 'hanover hound',\n",
       " 'harrier',\n",
       " 'havanese',\n",
       " 'himalayan sheepdog',\n",
       " 'hokkaido',\n",
       " 'hortaya borzaya',\n",
       " 'hovawart',\n",
       " 'huntaway',\n",
       " 'hygen hound',\n",
       " 'ibizan hound',\n",
       " 'icelandic sheepdog',\n",
       " 'indian pariah dog',\n",
       " 'indian spitz',\n",
       " 'irish red and white setter',\n",
       " 'irish setter',\n",
       " 'irish terrier',\n",
       " 'irish water spaniel',\n",
       " 'irish wolfhound',\n",
       " 'istrian coarse-haired hound',\n",
       " 'istrian shorthaired hound',\n",
       " 'italian greyhound',\n",
       " 'jack russell terrier',\n",
       " 'jagdterrier',\n",
       " 'japanese chin',\n",
       " 'japanese spitz',\n",
       " 'japanese terrier',\n",
       " 'jindo',\n",
       " 'jonangi',\n",
       " 'kai ken',\n",
       " 'kangal shepherd dog',\n",
       " 'kanni',\n",
       " 'karakachan dog',\n",
       " 'karelian bear dog',\n",
       " 'karst shepherd',\n",
       " 'keeshond',\n",
       " 'kerry beagle',\n",
       " 'kerry blue terrier',\n",
       " 'king charles spaniel',\n",
       " 'king shepherd',\n",
       " 'kintamani',\n",
       " 'kishu',\n",
       " 'komondor',\n",
       " 'kooikerhondje',\n",
       " 'koolie',\n",
       " 'koyun dog',\n",
       " 'kromfohrländer',\n",
       " 'kuchi',\n",
       " 'kumaon mastiff',\n",
       " 'kunming wolfdog',\n",
       " 'kuvasz',\n",
       " 'labrador retriever',\n",
       " 'laekenois',\n",
       " 'lagotto romagnolo',\n",
       " 'lakeland terrier',\n",
       " 'lancashire heeler',\n",
       " 'landseer',\n",
       " 'lapponian herder',\n",
       " 'lapponian shepherd',\n",
       " 'large münsterländer',\n",
       " 'leonberger',\n",
       " 'lhasa apso',\n",
       " 'lithuanian hound',\n",
       " 'löwchen',\n",
       " 'lupo italiano',\n",
       " 'mackenzie river husky',\n",
       " 'magyar agár',\n",
       " 'mahratta greyhound',\n",
       " 'malinois',\n",
       " 'maltese',\n",
       " 'manchester terrier',\n",
       " 'maremma sheepdog',\n",
       " 'mcnab dog',\n",
       " 'miniature american shepherd',\n",
       " 'miniature bull terrier',\n",
       " 'miniature fox terrier',\n",
       " 'miniature pinscher',\n",
       " 'miniature schnauzer',\n",
       " 'miniature shar pei',\n",
       " 'montenegrin mountain hound',\n",
       " 'moscow water dog',\n",
       " 'mountain cur',\n",
       " 'mucuchies',\n",
       " 'mudhol hound',\n",
       " 'mudi',\n",
       " 'neapolitan mastiff',\n",
       " 'newfoundland',\n",
       " 'new zealand heading dog',\n",
       " 'norfolk terrier',\n",
       " 'norrbottenspets',\n",
       " 'northern inuit dog',\n",
       " 'norwegian buhund',\n",
       " 'norwegian elkhound',\n",
       " 'norwegian lundehund',\n",
       " 'norwich terrier',\n",
       " 'nova scotia duck tolling retriever',\n",
       " 'old croatian sighthound',\n",
       " 'old danish pointer',\n",
       " 'old english sheepdog',\n",
       " 'old english terrier',\n",
       " 'olde english bulldogge',\n",
       " 'original fila brasileiro',\n",
       " 'otterhound',\n",
       " 'pachon navarro',\n",
       " 'pandikona',\n",
       " 'paisley terrier',\n",
       " 'papillon',\n",
       " 'parson russell terrier',\n",
       " 'pastore della lessinia e del lagorai',\n",
       " 'patagonian sheepdog',\n",
       " 'patterdale terrier',\n",
       " 'pekingese',\n",
       " 'pembroke welsh corgi',\n",
       " 'perro de pastor mallorquin',\n",
       " 'perro de presa canario',\n",
       " 'perro de presa mallorquin',\n",
       " 'peruvian inca orchid',\n",
       " 'petit basset griffon vendéen',\n",
       " 'petit bleu de gascogne',\n",
       " 'phalène',\n",
       " 'pharaoh hound',\n",
       " 'phu quoc ridgeback',\n",
       " 'picardy spaniel',\n",
       " 'plummer terrier',\n",
       " 'plott hound',\n",
       " 'podenco canario',\n",
       " 'pointer',\n",
       " 'poitevin',\n",
       " 'polish greyhound',\n",
       " 'polish hound',\n",
       " 'polish lowland sheepdog',\n",
       " 'polish tatra sheepdog',\n",
       " 'pomeranian',\n",
       " 'pont-audemer spaniel',\n",
       " 'poodle',\n",
       " 'porcelaine',\n",
       " 'portuguese podengo',\n",
       " 'portuguese pointer',\n",
       " 'portuguese water dog',\n",
       " 'posavac hound',\n",
       " 'potsdam greyhound',\n",
       " 'pražský krysařík',\n",
       " 'pudelpointer',\n",
       " 'pug',\n",
       " 'puli',\n",
       " 'pumi',\n",
       " 'pungsan dog',\n",
       " 'pyrenean mastiff',\n",
       " 'pyrenean shepherd',\n",
       " 'rafeiro do alentejo',\n",
       " 'rajapalayam',\n",
       " 'rampur greyhound',\n",
       " 'rastreador brasileiro',\n",
       " 'rat terrier',\n",
       " 'ratonero bodeguero andaluz',\n",
       " 'ratonero mallorquin',\n",
       " 'ratonero murciano de huerta',\n",
       " 'ratonero valenciano',\n",
       " 'redbone coonhound',\n",
       " 'rhodesian ridgeback',\n",
       " 'romanian mioritic shepherd dog',\n",
       " 'romanian raven shepherd dog',\n",
       " 'rottweiler',\n",
       " 'rough collie',\n",
       " 'russian spaniel',\n",
       " 'russian toy',\n",
       " 'russo-european laika',\n",
       " 'russell terrier',\n",
       " 'saarloos wolfdog',\n",
       " 'sabueso español',\n",
       " 'saint bernard',\n",
       " 'saint-usuge spaniel',\n",
       " 'saluki',\n",
       " 'samoyed',\n",
       " 'sapsali',\n",
       " 'šarplaninac',\n",
       " 'schapendoes',\n",
       " 'schillerstövare',\n",
       " 'schipperke',\n",
       " 'schweizer laufhund',\n",
       " 'schweizerischer niederlaufhund',\n",
       " 'scotch collie',\n",
       " 'scottish deerhound',\n",
       " 'scottish terrier',\n",
       " 'sealyham terrier',\n",
       " 'segugio italiano',\n",
       " 'seppala siberian sleddog',\n",
       " 'serbian hound',\n",
       " 'serbian tricolour hound',\n",
       " 'serrano bulldog',\n",
       " 'shar pei',\n",
       " 'shetland sheepdog',\n",
       " 'shiba inu',\n",
       " 'shih tzu',\n",
       " 'shikoku',\n",
       " 'shiloh shepherd',\n",
       " 'siberian husky',\n",
       " 'silken windhound',\n",
       " 'silky terrier',\n",
       " 'sinhala hound',\n",
       " 'skye terrier',\n",
       " 'sloughi',\n",
       " 'slovakian wirehaired pointer',\n",
       " 'slovenský cuvac',\n",
       " 'slovenský kopov',\n",
       " 'smalandstövare',\n",
       " 'small greek domestic dog',\n",
       " 'small münsterländer',\n",
       " 'smooth collie',\n",
       " 'smooth fox terrier',\n",
       " 'soft-coated wheaten terrier',\n",
       " 'south russian ovcharka',\n",
       " 'spanish mastiff',\n",
       " 'spanish water dog',\n",
       " 'spinone italiano',\n",
       " 'sporting lucas terrier',\n",
       " 'stabyhoun',\n",
       " 'staffordshire bull terrier',\n",
       " 'standard schnauzer',\n",
       " 'stephens cur',\n",
       " 'styrian coarse-haired hound',\n",
       " 'sussex spaniel',\n",
       " 'swedish elkhound',\n",
       " 'swedish lapphund',\n",
       " 'swedish vallhund',\n",
       " 'tahltan bear dog',\n",
       " 'taigan',\n",
       " 'taiwan dog',\n",
       " 'tamaskan dog',\n",
       " 'teddy roosevelt terrier',\n",
       " 'telomian',\n",
       " 'tenterfield terrier',\n",
       " 'terrier brasileiro',\n",
       " 'tervuren',\n",
       " 'thai bangkaew dog',\n",
       " 'thai ridgeback',\n",
       " 'tibetan mastiff',\n",
       " 'tibetan spaniel',\n",
       " 'tibetan terrier',\n",
       " 'tornjak',\n",
       " 'tosa',\n",
       " 'toy fox terrier',\n",
       " 'toy manchester terrier',\n",
       " 'transylvanian hound',\n",
       " 'treeing cur',\n",
       " 'treeing tennessee brindle',\n",
       " 'treeing walker coonhound',\n",
       " 'trigg hound',\n",
       " 'tyrolean hound',\n",
       " 'villano de las encartaciones',\n",
       " 'villanuco de las encartaciones',\n",
       " 'vizsla',\n",
       " 'volpino italiano',\n",
       " 'weimaraner',\n",
       " 'welsh sheepdog',\n",
       " 'welsh springer spaniel',\n",
       " 'welsh terrier',\n",
       " 'west highland white terrier',\n",
       " 'west siberian laika',\n",
       " 'westphalian dachsbracke',\n",
       " 'wetterhoun',\n",
       " 'whippet',\n",
       " 'white shepherd',\n",
       " 'white swiss shepherd dog',\n",
       " 'wire fox terrier',\n",
       " 'wirehaired pointing griffon',\n",
       " 'wirehaired vizsla',\n",
       " 'xiasi dog',\n",
       " 'xoloitzcuintli',\n",
       " 'yakutian laika',\n",
       " 'yorkshire terrier']"
      ]
     },
     "execution_count": 21,
     "metadata": {},
     "output_type": "execute_result"
    }
   ],
   "source": [
    "dog_breeds"
   ]
  },
  {
   "cell_type": "markdown",
   "metadata": {},
   "source": [
    "## Assess"
   ]
  },
  {
   "cell_type": "markdown",
   "metadata": {},
   "source": [
    "#### Quality\n",
    "##### df1 table\n",
    "- timestamp \n",
    "\n",
    "- Zip code is a float not a string\n",
    "- Zip code has four digits sometimes\n",
    "- Tim Neudorf height is 27 in instead of 72 in\n",
    "- Full state names sometimes, abbreviations other times\n",
    "- Dsvid Gustafsson\n",
    "- Missing demographic information (address - contact columns) ***(can't clean yet)***\n",
    "- Erroneous datatypes (assigned sex, state, zip_code, and birthdate columns)\n",
    "- Multiple phone number formats\n",
    "- Default John Doe data\n",
    "- Multiple records for Jakobsen, Gersten, Taylor\n",
    "- kgs instead of lbs for Zaitseva weight\n",
    "\n",
    "##### `treatments` table\n",
    "- Missing HbA1c changes\n",
    "- The letter 'u' in starting and ending doses for Auralin and Novodra\n",
    "- Lowercase given names and surnames\n",
    "- Missing records (280 instead of 350)\n",
    "- Erroneous datatypes (auralin and novodra columns)\n",
    "- Inaccurate HbA1c changes (leading 4s mistaken as 9s)\n",
    "- Nulls represented as dashes (-) in auralin and novodra columns\n",
    "\n",
    "##### `adverse_reactions` table\n",
    "- Lowercase given names and surnames"
   ]
  },
  {
   "cell_type": "markdown",
   "metadata": {},
   "source": [
    "#### Tidiness\n",
    "- columns with stages of dogs (i.e. doggo, pupper, puppo, floof(er)) should be combined in one column\n",
    "\n",
    "- Contact column in `patients` table should be split into phone number and email\n",
    "- Three variables in two columns in `treatments` table (treatment, start dose and end dose)\n",
    "- Adverse reaction should be part of the `treatments` table\n",
    "- Given name and surname columns in `patients` table duplicated in `treatments` and `adverse_reactions` tables"
   ]
  },
  {
   "cell_type": "markdown",
   "metadata": {},
   "source": [
    "## Clean"
   ]
  },
  {
   "cell_type": "code",
   "execution_count": null,
   "metadata": {},
   "outputs": [],
   "source": [
    "patients_clean = patients.copy()\n",
    "treatments_clean = treatments.copy()\n",
    "adverse_reactions_clean = adverse_reactions.copy()"
   ]
  },
  {
   "cell_type": "markdown",
   "metadata": {},
   "source": [
    "### Quality"
   ]
  },
  {
   "cell_type": "markdown",
   "metadata": {},
   "source": [
    "#### `treatments`: Missing records (280 instead of 350)"
   ]
  },
  {
   "cell_type": "markdown",
   "metadata": {},
   "source": [
    "##### Define\n",
    "Import the cut treatments into a DataFrame and concatenate it with the original treatments DataFrame."
   ]
  },
  {
   "cell_type": "markdown",
   "metadata": {},
   "source": [
    "##### Code"
   ]
  },
  {
   "cell_type": "markdown",
   "metadata": {},
   "source": [
    "##### Test"
   ]
  },
  {
   "cell_type": "markdown",
   "metadata": {},
   "source": [
    "### Tidiness"
   ]
  },
  {
   "cell_type": "markdown",
   "metadata": {},
   "source": [
    "#### Contact column in `patients` table contains two variables: phone number and email"
   ]
  },
  {
   "cell_type": "markdown",
   "metadata": {},
   "source": [
    "##### Define\n",
    "Extract the *phone number* and *email* variables from the *contact* column using regular expressions and pandas' `str.extract` method. Drop the *contact* column when done."
   ]
  },
  {
   "cell_type": "markdown",
   "metadata": {},
   "source": [
    "##### Code"
   ]
  },
  {
   "cell_type": "markdown",
   "metadata": {},
   "source": [
    "##### Test"
   ]
  },
  {
   "cell_type": "code",
   "execution_count": null,
   "metadata": {},
   "outputs": [],
   "source": []
  }
 ],
 "metadata": {
  "kernelspec": {
   "display_name": "Python 3",
   "language": "python",
   "name": "python3"
  },
  "language_info": {
   "codemirror_mode": {
    "name": "ipython",
    "version": 3
   },
   "file_extension": ".py",
   "mimetype": "text/x-python",
   "name": "python",
   "nbconvert_exporter": "python",
   "pygments_lexer": "ipython3",
   "version": "3.8.2"
  }
 },
 "nbformat": 4,
 "nbformat_minor": 4
}
